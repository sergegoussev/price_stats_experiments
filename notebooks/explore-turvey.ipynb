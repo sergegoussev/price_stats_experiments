{
 "cells": [
  {
   "cell_type": "raw",
   "id": "5b094832",
   "metadata": {
    "vscode": {
     "languageId": "raw"
    }
   },
   "source": [
    "---\n",
    "title: Explore Turvey dataset\n",
    "date: 2025-09-20\n",
    "format:\n",
    "  html:\n",
    "    toc: true\n",
    "    toc-expand: 2\n",
    "    code-fold: false\n",
    "categories:\n",
    "  - dataset\n",
    "---"
   ]
  },
  {
   "cell_type": "markdown",
   "id": "21b553ae",
   "metadata": {},
   "source": [
    "This notebook explores the turvey dataset, a classic in price statistics discipline.\n",
    "\n",
    "## Context\n",
    "\n",
    "The initial dataset was introduced by [Turvey (1979) \"The treatment of seasonal items in consumer price indices\"](https://webapps.ilo.org/public/libdoc/ilo/P/09606/09606(1979-4)XIII-XXIII.pdf), and a slightly different version was made availible on page 395 of the [2004 CPI Manual](https://www.ilo.org/sites/default/files/wcmsp5/groups/public/@dgreports/@stat/documents/presentation/wcms_331153.pdf).\n"
   ]
  },
  {
   "cell_type": "code",
   "execution_count": null,
   "id": "ac5c3944",
   "metadata": {},
   "outputs": [],
   "source": []
  }
 ],
 "metadata": {
  "kernelspec": {
   "display_name": "price_stats_experiments",
   "language": "python",
   "name": "python3"
  },
  "language_info": {
   "name": "python",
   "version": "3.10.14"
  }
 },
 "nbformat": 4,
 "nbformat_minor": 5
}
