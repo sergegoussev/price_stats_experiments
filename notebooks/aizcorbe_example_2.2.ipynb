{
 "cells": [
  {
   "cell_type": "raw",
   "metadata": {
    "vscode": {
     "languageId": "raw"
    }
   },
   "source": [
    "---\n",
    "title: Aizcorbe (2014), ex 2.2. Bilateral indices\n",
    "date: Sept 20, 2024\n",
    "format:\n",
    "  html:\n",
    "    toc: true\n",
    "    toc-expand: 2\n",
    "    code-fold: false\n",
    "categories:\n",
    "  - bilateral index methods\n",
    "  - product churn\n",
    "---"
   ]
  },
  {
   "cell_type": "markdown",
   "metadata": {},
   "source": [
    "# Example of bilateral indices with product churn (from Aizcorbe 2014, example 2.2)\n",
    "\n",
    "In Example 2.2, Aizcorbe uses the [DRAM dataset](https://phe.rockefeller.edu/LogletLab/DRAM/) to demonstrate how to construct bilateral price indices with product churn. "
   ]
  },
  {
   "cell_type": "code",
   "execution_count": null,
   "metadata": {},
   "outputs": [],
   "source": []
  }
 ],
 "metadata": {
  "kernelspec": {
   "display_name": "price_index_experiments",
   "language": "python",
   "name": "python3"
  },
  "language_info": {
   "name": "python",
   "version": "3.10.14"
  }
 },
 "nbformat": 4,
 "nbformat_minor": 2
}
