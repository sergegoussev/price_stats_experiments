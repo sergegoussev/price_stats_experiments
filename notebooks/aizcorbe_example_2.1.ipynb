{
 "cells": [
  {
   "cell_type": "raw",
   "metadata": {
    "vscode": {
     "languageId": "raw"
    }
   },
   "source": [
    "---\n",
    "title: Aizcorbe (2014), ex 2.1. Bilateral fixed-base and chained indices\n",
    "date: Sept 29, 2024\n",
    "format:\n",
    "  html:\n",
    "    toc: true\n",
    "    toc-expand: 2\n",
    "    code-fold: false\n",
    "categories:\n",
    "  - bilateral index methods\n",
    "  - fixed-base indices\n",
    "  - chained indices\n",
    "---"
   ]
  },
  {
   "cell_type": "markdown",
   "metadata": {},
   "source": [
    "# Overview\n",
    "\n",
    "This notebook goes through a fixed-base and chained bilateral indices methods demonstrated by Aizcorbe (2014) in 2.1. This this example Ana Aizcorbe uses US National Income and Product Accounts data from the BEA to demonstrate how the Laspeyres, Paasche, and Fisher behave differently when you use a fixed base versus when they are chained."
   ]
  },
  {
   "cell_type": "code",
   "execution_count": 1,
   "metadata": {},
   "outputs": [],
   "source": [
    "import pandas as pd\n",
    "import numpy as np"
   ]
  },
  {
   "cell_type": "markdown",
   "metadata": {},
   "source": [
    "## Explore the data\n",
    "\n",
    "While the raw data is a tad hard to work with (and looks awkward in Table 2.3), this data is provided in cleaned `csv` format in the `data\\silver` folder"
   ]
  },
  {
   "cell_type": "code",
   "execution_count": 3,
   "metadata": {},
   "outputs": [
    {
     "data": {
      "text/html": [
       "<div>\n",
       "<style scoped>\n",
       "    .dataframe tbody tr th:only-of-type {\n",
       "        vertical-align: middle;\n",
       "    }\n",
       "\n",
       "    .dataframe tbody tr th {\n",
       "        vertical-align: top;\n",
       "    }\n",
       "\n",
       "    .dataframe thead th {\n",
       "        text-align: right;\n",
       "    }\n",
       "</style>\n",
       "<table border=\"1\" class=\"dataframe\">\n",
       "  <thead>\n",
       "    <tr style=\"text-align: right;\">\n",
       "      <th></th>\n",
       "      <th>Years</th>\n",
       "      <th>Motor  Vehicles  and  Parts</th>\n",
       "      <th>Furnishings  and  Durable  Household  Equipment</th>\n",
       "      <th>Recreational  Goods  and  Vehicles</th>\n",
       "      <th>Other  Durable  Goods</th>\n",
       "    </tr>\n",
       "  </thead>\n",
       "  <tbody>\n",
       "    <tr>\n",
       "      <th>0</th>\n",
       "      <td>2000</td>\n",
       "      <td>363.2</td>\n",
       "      <td>208.1</td>\n",
       "      <td>234.1</td>\n",
       "      <td>110.4</td>\n",
       "    </tr>\n",
       "    <tr>\n",
       "      <th>1</th>\n",
       "      <td>2001</td>\n",
       "      <td>383.3</td>\n",
       "      <td>214.9</td>\n",
       "      <td>239.8</td>\n",
       "      <td>108.4</td>\n",
       "    </tr>\n",
       "    <tr>\n",
       "      <th>2</th>\n",
       "      <td>2002</td>\n",
       "      <td>401.3</td>\n",
       "      <td>225.9</td>\n",
       "      <td>251.5</td>\n",
       "      <td>113.4</td>\n",
       "    </tr>\n",
       "    <tr>\n",
       "      <th>3</th>\n",
       "      <td>2003</td>\n",
       "      <td>401.0</td>\n",
       "      <td>231.8</td>\n",
       "      <td>265.7</td>\n",
       "      <td>121.4</td>\n",
       "    </tr>\n",
       "    <tr>\n",
       "      <th>4</th>\n",
       "      <td>2004</td>\n",
       "      <td>403.9</td>\n",
       "      <td>247.0</td>\n",
       "      <td>290.5</td>\n",
       "      <td>131.5</td>\n",
       "    </tr>\n",
       "    <tr>\n",
       "      <th>5</th>\n",
       "      <td>2005</td>\n",
       "      <td>408.2</td>\n",
       "      <td>261.3</td>\n",
       "      <td>312.8</td>\n",
       "      <td>141.1</td>\n",
       "    </tr>\n",
       "    <tr>\n",
       "      <th>6</th>\n",
       "      <td>2006</td>\n",
       "      <td>394.8</td>\n",
       "      <td>271.5</td>\n",
       "      <td>334.1</td>\n",
       "      <td>154.6</td>\n",
       "    </tr>\n",
       "    <tr>\n",
       "      <th>7</th>\n",
       "      <td>2007</td>\n",
       "      <td>399.9</td>\n",
       "      <td>271.3</td>\n",
       "      <td>349.4</td>\n",
       "      <td>167.8</td>\n",
       "    </tr>\n",
       "    <tr>\n",
       "      <th>8</th>\n",
       "      <td>2008</td>\n",
       "      <td>339.3</td>\n",
       "      <td>257.9</td>\n",
       "      <td>344.0</td>\n",
       "      <td>167.7</td>\n",
       "    </tr>\n",
       "    <tr>\n",
       "      <th>9</th>\n",
       "      <td>2009</td>\n",
       "      <td>316.5</td>\n",
       "      <td>235.3</td>\n",
       "      <td>316.6</td>\n",
       "      <td>161.2</td>\n",
       "    </tr>\n",
       "    <tr>\n",
       "      <th>10</th>\n",
       "      <td>2010</td>\n",
       "      <td>340.1</td>\n",
       "      <td>243.8</td>\n",
       "      <td>329.8</td>\n",
       "      <td>171.8</td>\n",
       "    </tr>\n",
       "  </tbody>\n",
       "</table>\n",
       "</div>"
      ],
      "text/plain": [
       "    Years  Motor  Vehicles  and  Parts  \\\n",
       "0    2000                        363.2   \n",
       "1    2001                        383.3   \n",
       "2    2002                        401.3   \n",
       "3    2003                        401.0   \n",
       "4    2004                        403.9   \n",
       "5    2005                        408.2   \n",
       "6    2006                        394.8   \n",
       "7    2007                        399.9   \n",
       "8    2008                        339.3   \n",
       "9    2009                        316.5   \n",
       "10   2010                        340.1   \n",
       "\n",
       "    Furnishings  and  Durable  Household  Equipment  \\\n",
       "0                                             208.1   \n",
       "1                                             214.9   \n",
       "2                                             225.9   \n",
       "3                                             231.8   \n",
       "4                                             247.0   \n",
       "5                                             261.3   \n",
       "6                                             271.5   \n",
       "7                                             271.3   \n",
       "8                                             257.9   \n",
       "9                                             235.3   \n",
       "10                                            243.8   \n",
       "\n",
       "    Recreational  Goods  and  Vehicles  Other  Durable  Goods  \n",
       "0                                234.1                  110.4  \n",
       "1                                239.8                  108.4  \n",
       "2                                251.5                  113.4  \n",
       "3                                265.7                  121.4  \n",
       "4                                290.5                  131.5  \n",
       "5                                312.8                  141.1  \n",
       "6                                334.1                  154.6  \n",
       "7                                349.4                  167.8  \n",
       "8                                344.0                  167.7  \n",
       "9                                316.6                  161.2  \n",
       "10                               329.8                  171.8  "
      ]
     },
     "execution_count": 3,
     "metadata": {},
     "output_type": "execute_result"
    }
   ],
   "source": [
    "df_expenditures = pd.read_csv(\"../data/silver/2000-2010 US NIPA data - nominal spending.csv\")\n",
    "df_expenditures"
   ]
  },
  {
   "cell_type": "code",
   "execution_count": 4,
   "metadata": {},
   "outputs": [
    {
     "data": {
      "text/html": [
       "<div>\n",
       "<style scoped>\n",
       "    .dataframe tbody tr th:only-of-type {\n",
       "        vertical-align: middle;\n",
       "    }\n",
       "\n",
       "    .dataframe tbody tr th {\n",
       "        vertical-align: top;\n",
       "    }\n",
       "\n",
       "    .dataframe thead th {\n",
       "        text-align: right;\n",
       "    }\n",
       "</style>\n",
       "<table border=\"1\" class=\"dataframe\">\n",
       "  <thead>\n",
       "    <tr style=\"text-align: right;\">\n",
       "      <th></th>\n",
       "      <th>Years</th>\n",
       "      <th>Motor  Vehicles  and  Parts</th>\n",
       "      <th>Furnishings  and  Durable  Household  Equipment</th>\n",
       "      <th>Recreational  Goods  and  Vehicles</th>\n",
       "      <th>Other  Durable  Goods</th>\n",
       "    </tr>\n",
       "  </thead>\n",
       "  <tbody>\n",
       "    <tr>\n",
       "      <th>0</th>\n",
       "      <td>2000</td>\n",
       "      <td>102.00</td>\n",
       "      <td>108.12</td>\n",
       "      <td>136.29</td>\n",
       "      <td>105.23</td>\n",
       "    </tr>\n",
       "    <tr>\n",
       "      <th>1</th>\n",
       "      <td>2001</td>\n",
       "      <td>102.40</td>\n",
       "      <td>106.27</td>\n",
       "      <td>126.99</td>\n",
       "      <td>105.56</td>\n",
       "    </tr>\n",
       "    <tr>\n",
       "      <th>2</th>\n",
       "      <td>2002</td>\n",
       "      <td>101.86</td>\n",
       "      <td>104.08</td>\n",
       "      <td>118.78</td>\n",
       "      <td>103.61</td>\n",
       "    </tr>\n",
       "    <tr>\n",
       "      <th>3</th>\n",
       "      <td>2003</td>\n",
       "      <td>99.08</td>\n",
       "      <td>101.16</td>\n",
       "      <td>111.28</td>\n",
       "      <td>101.91</td>\n",
       "    </tr>\n",
       "    <tr>\n",
       "      <th>4</th>\n",
       "      <td>2004</td>\n",
       "      <td>98.40</td>\n",
       "      <td>99.91</td>\n",
       "      <td>105.76</td>\n",
       "      <td>101.54</td>\n",
       "    </tr>\n",
       "    <tr>\n",
       "      <th>5</th>\n",
       "      <td>2005</td>\n",
       "      <td>100.00</td>\n",
       "      <td>100.00</td>\n",
       "      <td>100.00</td>\n",
       "      <td>100.00</td>\n",
       "    </tr>\n",
       "    <tr>\n",
       "      <th>6</th>\n",
       "      <td>2006</td>\n",
       "      <td>100.11</td>\n",
       "      <td>99.60</td>\n",
       "      <td>93.79</td>\n",
       "      <td>101.80</td>\n",
       "    </tr>\n",
       "    <tr>\n",
       "      <th>7</th>\n",
       "      <td>2007</td>\n",
       "      <td>99.62</td>\n",
       "      <td>98.89</td>\n",
       "      <td>87.16</td>\n",
       "      <td>105.53</td>\n",
       "    </tr>\n",
       "    <tr>\n",
       "      <th>8</th>\n",
       "      <td>2008</td>\n",
       "      <td>97.82</td>\n",
       "      <td>98.14</td>\n",
       "      <td>82.65</td>\n",
       "      <td>109.09</td>\n",
       "    </tr>\n",
       "    <tr>\n",
       "      <th>9</th>\n",
       "      <td>2009</td>\n",
       "      <td>98.16</td>\n",
       "      <td>97.82</td>\n",
       "      <td>77.35</td>\n",
       "      <td>110.40</td>\n",
       "    </tr>\n",
       "    <tr>\n",
       "      <th>10</th>\n",
       "      <td>2010</td>\n",
       "      <td>103.05</td>\n",
       "      <td>93.73</td>\n",
       "      <td>71.74</td>\n",
       "      <td>110.92</td>\n",
       "    </tr>\n",
       "  </tbody>\n",
       "</table>\n",
       "</div>"
      ],
      "text/plain": [
       "    Years  Motor  Vehicles  and  Parts  \\\n",
       "0    2000                       102.00   \n",
       "1    2001                       102.40   \n",
       "2    2002                       101.86   \n",
       "3    2003                        99.08   \n",
       "4    2004                        98.40   \n",
       "5    2005                       100.00   \n",
       "6    2006                       100.11   \n",
       "7    2007                        99.62   \n",
       "8    2008                        97.82   \n",
       "9    2009                        98.16   \n",
       "10   2010                       103.05   \n",
       "\n",
       "    Furnishings  and  Durable  Household  Equipment  \\\n",
       "0                                            108.12   \n",
       "1                                            106.27   \n",
       "2                                            104.08   \n",
       "3                                            101.16   \n",
       "4                                             99.91   \n",
       "5                                            100.00   \n",
       "6                                             99.60   \n",
       "7                                             98.89   \n",
       "8                                             98.14   \n",
       "9                                             97.82   \n",
       "10                                            93.73   \n",
       "\n",
       "    Recreational  Goods  and  Vehicles  Other  Durable  Goods  \n",
       "0                               136.29                 105.23  \n",
       "1                               126.99                 105.56  \n",
       "2                               118.78                 103.61  \n",
       "3                               111.28                 101.91  \n",
       "4                               105.76                 101.54  \n",
       "5                               100.00                 100.00  \n",
       "6                                93.79                 101.80  \n",
       "7                                87.16                 105.53  \n",
       "8                                82.65                 109.09  \n",
       "9                                77.35                 110.40  \n",
       "10                               71.74                 110.92  "
      ]
     },
     "execution_count": 4,
     "metadata": {},
     "output_type": "execute_result"
    }
   ],
   "source": [
    "df_price_indices = pd.read_csv(\"../data/silver/2000-2010 US NIPA data - price indexes.csv\")\n",
    "df_price_indices"
   ]
  },
  {
   "cell_type": "code",
   "execution_count": null,
   "metadata": {},
   "outputs": [],
   "source": []
  },
  {
   "cell_type": "code",
   "execution_count": null,
   "metadata": {},
   "outputs": [],
   "source": []
  },
  {
   "cell_type": "code",
   "execution_count": null,
   "metadata": {},
   "outputs": [],
   "source": []
  },
  {
   "cell_type": "code",
   "execution_count": null,
   "metadata": {},
   "outputs": [],
   "source": []
  },
  {
   "cell_type": "code",
   "execution_count": null,
   "metadata": {},
   "outputs": [],
   "source": []
  },
  {
   "cell_type": "markdown",
   "metadata": {},
   "source": [
    "## Demonstration of using numpy array to do example in table 2.1"
   ]
  },
  {
   "cell_type": "code",
   "execution_count": 19,
   "metadata": {},
   "outputs": [],
   "source": [
    "p0 = np.array([6,4])\n",
    "p1 = np.array([7,10])\n",
    "q0 = np.array([200,200])\n",
    "q1 = np.array([600,100])"
   ]
  },
  {
   "cell_type": "markdown",
   "metadata": {},
   "source": [
    "Laspeyres"
   ]
  },
  {
   "cell_type": "code",
   "execution_count": 20,
   "metadata": {},
   "outputs": [
    {
     "data": {
      "text/plain": [
       "1.7"
      ]
     },
     "execution_count": 20,
     "metadata": {},
     "output_type": "execute_result"
    }
   ],
   "source": [
    "np.sum(p1 * q0) / np.sum(p0 * q0)"
   ]
  },
  {
   "cell_type": "markdown",
   "metadata": {},
   "source": [
    "Paasche"
   ]
  },
  {
   "cell_type": "code",
   "execution_count": 22,
   "metadata": {},
   "outputs": [
    {
     "data": {
      "text/plain": [
       "1.3"
      ]
     },
     "execution_count": 22,
     "metadata": {},
     "output_type": "execute_result"
    }
   ],
   "source": [
    "np.sum(p1 * q1) / np.sum(p0 * q1)"
   ]
  },
  {
   "cell_type": "markdown",
   "metadata": {},
   "source": [
    "## Examples using functions from [`PriceIndexCalc`](https://github.com/drrobotk/PriceIndexCalc/tree/main)"
   ]
  },
  {
   "cell_type": "code",
   "execution_count": 40,
   "metadata": {},
   "outputs": [],
   "source": [
    "def laspeyres(\n",
    "    p0: np.array, \n",
    "    p1: np.array,\n",
    "    q0: np.array,\n",
    ") -> float:\n",
    "    \"\"\"\n",
    "    Laspeyres bilateral index, using price and base quantity information.\n",
    "    \n",
    "    .. math::\n",
    "        \\\\text{Laspeyres} = \\\\frac{\\\\sum_{i=1}^{n} p_i}{\\\\sum_{i=1}^{n} p_0}\n",
    "\n",
    "    :param p0: Base price vector.\n",
    "    :param p1: Current price vector.\n",
    "    :param q0: Base quantity vector.\n",
    "    \"\"\"\n",
    "    return lowe(p0, p1, q0)\n",
    "\n",
    "def paasche(\n",
    "    p0: np.array, \n",
    "    p1: np.array,\n",
    "    q1: np.array,\n",
    ") -> float:\n",
    "    \"\"\"Paasche bilateral index, using price and current quantity information.\"\"\"\n",
    "    return lowe(p0, p1, q1)\n",
    "\n",
    "def lowe(\n",
    "    p0: np.array, \n",
    "    p1: np.array,\n",
    "    q: np.array,\n",
    ") -> float:\n",
    "    \"\"\"\n",
    "    Lowe bilateral index, using price and arbitrary quantity information.\n",
    "    \n",
    "    .. math::\n",
    "        \\\\text{Lowe} = \\\\frac{\\\\sum_{i=1}^{n} p_i}{\\\\sum_{i=1}^{n} p_0}\n",
    "\n",
    "    :param p0: Base price vector.\n",
    "    :param p1: Current price vector.\n",
    "    :param q: Arbitrary quantity vector.\n",
    "    \"\"\"\n",
    "    return np.sum(p1 * q) / np.sum(p0 * q)\n",
    "\n",
    "\n",
    "def fisher(\n",
    "    p0: np.array, \n",
    "    p1: np.array,\n",
    "    q0: np.array,\n",
    "    q1: np.array,\n",
    ") -> float:\n",
    "    \"\"\"\n",
    "    Fisher bilateral index, using price and quantity information.\n",
    "    \n",
    "    .. math::\n",
    "        \\\\text{Fisher} = \\\\frac{\\\\sum_{i=1}^{n} p_i}{\\\\sum_{i=1}^{n} p_0}\n",
    "\n",
    "    :param p0: Base price vector.\n",
    "    :param p1: Current price vector.\n",
    "    :param q0: Base quantity vector.\n",
    "    \"\"\"\n",
    "    return np.sqrt(laspeyres(p0, p1, q0) * paasche(p0, p1, q1))\n",
    "\n",
    "def tornqvist(\n",
    "    p0: np.array,\n",
    "    p1: np.array,\n",
    "    q0: np.array,\n",
    "    q1: np.array,\n",
    ") -> float:\n",
    "    \"\"\"\n",
    "    Torqvist bilateral index, using price and quantity information.\n",
    "    \n",
    "    .. math::\n",
    "        \\\\text{Torqvist} = \\\\frac{\\\\sum_{i=1}^{n} p_i}{\\\\sum_{i=1}^{n} p_0}\n",
    "\n",
    "    :param p0: Base price vector.\n",
    "    :param p1: Current price vector.\n",
    "    :param q0: Base quantity vector.\n",
    "    :param q1: Current quantity vector.\n",
    "    \"\"\"\n",
    "    s0 = (p0 * q0) / np.sum(p0 * q0)\n",
    "    s1 = (p1 * q1) / np.sum(p1 * q1)\n",
    "    return np.prod((p1 / p0) ** (0.5 * (s0 + s1)))\n",
    "\n",
    "def dutot(\n",
    "    p0: np.array, \n",
    "    p1: np.array\n",
    ") -> float:\n",
    "    \"\"\"\n",
    "    Dutot bilateral index, using price information.\n",
    "    \n",
    "    .. math::\n",
    "        \\\\text{Dutot} = \\\\frac{\\\\sum_{i=1}^{n} p_i}{\\\\sum_{i=1}^{n} p_0}\n",
    "\n",
    "    :param p0: Base price vector.\n",
    "    :param p1: Current price vector.\n",
    "    \"\"\"\n",
    "    return np.sum(p1)/np.sum(p0)"
   ]
  },
  {
   "cell_type": "code",
   "execution_count": 34,
   "metadata": {},
   "outputs": [
    {
     "data": {
      "text/plain": [
       "1.7"
      ]
     },
     "execution_count": 34,
     "metadata": {},
     "output_type": "execute_result"
    }
   ],
   "source": [
    "laspeyres(p0,p1, q0)"
   ]
  },
  {
   "cell_type": "code",
   "execution_count": 37,
   "metadata": {},
   "outputs": [
    {
     "data": {
      "text/plain": [
       "1.3"
      ]
     },
     "execution_count": 37,
     "metadata": {},
     "output_type": "execute_result"
    }
   ],
   "source": [
    "paasche(p0,p1,q1)"
   ]
  },
  {
   "cell_type": "code",
   "execution_count": 42,
   "metadata": {},
   "outputs": [
    {
     "data": {
      "text/plain": [
       "1.4866068747318506"
      ]
     },
     "execution_count": 42,
     "metadata": {},
     "output_type": "execute_result"
    }
   ],
   "source": [
    "fisher(p0,p1,q0,q1)"
   ]
  },
  {
   "cell_type": "code",
   "execution_count": 41,
   "metadata": {},
   "outputs": [
    {
     "data": {
      "text/plain": [
       "1.4115461908618467"
      ]
     },
     "execution_count": 41,
     "metadata": {},
     "output_type": "execute_result"
    }
   ],
   "source": [
    "tornqvist(p0,p1,p0,q1)"
   ]
  }
 ],
 "metadata": {
  "kernelspec": {
   "display_name": "price_index_experiments",
   "language": "python",
   "name": "python3"
  },
  "language_info": {
   "codemirror_mode": {
    "name": "ipython",
    "version": 3
   },
   "file_extension": ".py",
   "mimetype": "text/x-python",
   "name": "python",
   "nbconvert_exporter": "python",
   "pygments_lexer": "ipython3",
   "version": "3.10.14"
  }
 },
 "nbformat": 4,
 "nbformat_minor": 2
}
